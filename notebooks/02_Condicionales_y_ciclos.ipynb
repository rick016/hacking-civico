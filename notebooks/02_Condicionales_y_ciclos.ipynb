{
  "nbformat": 4,
  "nbformat_minor": 0,
  "metadata": {
    "colab": {
      "name": "02_Condicionales_y_ciclos.ipynb",
      "provenance": [],
      "authorship_tag": "ABX9TyMIKdzi2JAv8WLWJ1A2u61j",
      "include_colab_link": true
    },
    "kernelspec": {
      "name": "python3",
      "display_name": "Python 3"
    }
  },
  "cells": [
    {
      "cell_type": "markdown",
      "metadata": {
        "id": "view-in-github",
        "colab_type": "text"
      },
      "source": [
        "<a href=\"https://colab.research.google.com/github/CodeandoMexico/hacking-civico/blob/master/notebooks/02_Condicionales_y_ciclos.ipynb\" target=\"_parent\"><img src=\"https://colab.research.google.com/assets/colab-badge.svg\" alt=\"Open In Colab\"/></a>"
      ]
    },
    {
      "cell_type": "markdown",
      "metadata": {
        "id": "OuFVlidR1g1-",
        "colab_type": "text"
      },
      "source": [
        "<p align=\"center\">\n",
        "<img src=\"http://codeandomexico.org/resources/img/codeandomexico.png\" width=\"500\" alt=\"Codeando México\"><br>\n",
        "<a href=\"http://www.codeandomexico.org/\" target=\"_blank\"><img src=\"https://img.shields.io/badge/website-CodeandoMexico-00D88E.svg\"></a>\n",
        "<a href=\"http://slack.codeandomexico.org/\" target=\"_blank\"><img src=\"https://img.shields.io/badge/slack-CodeandoMexico-EC0E4F.svg\"></a>\n",
        "</p>\n",
        "<!-- __ -->\n",
        "\n",
        "# Curso de Datos Abiertos y Hacking Cívico\n",
        "\n",
        "Este curso tiene como objetivo habilitar las capacidades de la ciudadanía y los servidores públicos en el uso y generación de datos abiertos para el bien común. Puedes encontrar más información [aquí](https://github.com/CodeandoMexico/hacking-civico).\n",
        "\n",
        "# Python 101: Introducción al código\n",
        "\n",
        "A lo largo de este _Notebook_ se explicará como controlar el flujo de nuestro programa. Los contenidos específicos a cubrir en este cuaderno interactivo son los siguientes:\n",
        "\n",
        "> 1. Condicionales - IF\n",
        "> 2. Ciclos - FOR\n",
        "> 3. Ciclos - WHILE"
      ]
    },
    {
      "cell_type": "markdown",
      "metadata": {
        "id": "O8B1qUPG8v0f",
        "colab_type": "text"
      },
      "source": [
        "## 1. Condicionales IF\n",
        "\n",
        "Las declaraciones `if` se utilizan para validar si se cumple una o más condiciones para ejecutar cierto bloque de código, en esencia nos ayuda a tomar decisiones sobre el flujo de nuestro código. Una declaración `if` se ejecuta u omite código en función de si la condición es verdadera o falsa.\n",
        "\n",
        "**Ejemplo:**\n",
        "\n",
        "```python\n",
        "calidad_del_aire = \"buena\"\n",
        "\n",
        "if calidad_del_aire == \"buena\":\n",
        "    print(\"Es un buen día para salir al parque.\")\n",
        "else:\n",
        "    print(\"Hoy descansa y quédate en casa.\")\n",
        "```"
      ]
    },
    {
      "cell_type": "markdown",
      "metadata": {
        "id": "I8ATpi1v-XrS",
        "colab_type": "text"
      },
      "source": [
        "Si tenemos más de dos casos posibles, podemos usar `elif` (_nombre corto para `else if`_) para implementar la cantidad de posibilidades que sean necesarias. Al igual que `if`, `elif` también requiere una condición a evaluar.\n",
        "\n",
        "\n",
        "**Ejemplo:**\n",
        "\n",
        "```python\n",
        "calidad_del_aire = \"buena\"\n",
        "\n",
        "if calidad_del_aire == \"buena\":\n",
        "    print(\"Es un buen día para salir al parque.\")\n",
        "elif calidad_del_aire == \"regular\":\n",
        "    print(\"Quizás deberías usar la bici en lugar del coche.\")\n",
        "else:\n",
        "    print(\"Hoy descansa y quédate en casa.\")\n",
        "```\n",
        "\n",
        "Una condicional también puede tener expresiones booleanas complejas:"
      ]
    },
    {
      "cell_type": "code",
      "metadata": {
        "id": "o-ucwBGkDoRV",
        "colab_type": "code",
        "colab": {
          "base_uri": "https://localhost:8080/",
          "height": 34
        },
        "outputId": "1a69ad77-715f-4b21-af3f-bb32084d68c3"
      },
      "source": [
        "# Ejemplo de condicional\n",
        "\n",
        "unsubscribed = False\n",
        "location = \"CAN\"\n",
        "\n",
        "if (not unsubscribed) and (location == \"USA\" or location == \"CAN\"):\n",
        "    print(\"Enviar correo\")\n",
        "else:\n",
        "    print(\"No enviar correo\")"
      ],
      "execution_count": 12,
      "outputs": [
        {
          "output_type": "stream",
          "text": [
            "Enviar correo\n"
          ],
          "name": "stdout"
        }
      ]
    },
    {
      "cell_type": "markdown",
      "metadata": {
        "id": "c_jSArURBsC4",
        "colab_type": "text"
      },
      "source": [
        "✏️  **Ejercicio:**\n",
        "\n",
        "Crea una condición que compare si una edad es mayor o igual a 18. Para esto crea la variable `edad`, en caso de que la comparación sea verdadera imprime el mensaje _\"Es mayor de edad\"_, de lo contrario imprime _\"Es menor de edad\"_."
      ]
    },
    {
      "cell_type": "code",
      "metadata": {
        "id": "5ohcgy8KB4Kp",
        "colab_type": "code",
        "colab": {}
      },
      "source": [
        "# Escribe un condicional para verificar la variable edad\n"
      ],
      "execution_count": null,
      "outputs": []
    },
    {
      "cell_type": "markdown",
      "metadata": {
        "id": "lOxKoU8wFxv-",
        "colab_type": "text"
      },
      "source": [
        "### 2. Ciclos FOR\n",
        "\n",
        "Un ciclo `for` se usa para _iterar_, o hacer algo repetidamente, sobre un iterable. Con un iterable nos referimos a un objeto que puede devolver cada uno de sus elementos a la vez. Este objeto iterable del que hablamos puede ser una candena de texto, un rango de números o una colección de objetos.\n",
        "\n",
        "**Ejemplo:**"
      ]
    },
    {
      "cell_type": "code",
      "metadata": {
        "id": "BKtrUPMZH4gF",
        "colab_type": "code",
        "colab": {
          "base_uri": "https://localhost:8080/",
          "height": 204
        },
        "outputId": "24badfd8-97e1-4f2b-a4ad-5e47c46012af"
      },
      "source": [
        "# Iterando sobre una cadena de texto\n",
        "\n",
        "for i in \"Bienvenidos\":\n",
        "    print(i)"
      ],
      "execution_count": 13,
      "outputs": [
        {
          "output_type": "stream",
          "text": [
            "B\n",
            "i\n",
            "e\n",
            "n\n",
            "v\n",
            "e\n",
            "n\n",
            "i\n",
            "d\n",
            "o\n",
            "s\n"
          ],
          "name": "stdout"
        }
      ]
    },
    {
      "cell_type": "markdown",
      "metadata": {
        "id": "yI-bL9K2H5VY",
        "colab_type": "text"
      },
      "source": [
        "> `i` es la variable de iteración, la cual es una variable que representará el elemento que se está ejecutando en ese momento del ciclo.\n",
        "\n",
        "Otra opción es con `range()`, esta es una función incorporada en Python que se utiliza para crear una secuencia iterable de números. Esta se usa en los ciclos `for` para repetir una acción un cierto número de veces dentro de este rango que definamos.  La estructura para definir un rango es la siguiente:\n",
        "\n",
        "- `Start` es el primer número en donde empezará la secuencia.\n",
        "- `Stop` es uno más del número donde terminará la secuencia.\n",
        "- `Step` es la diferencia de los saltos entre los números de la secuencia.\n",
        "\n",
        "> La función `range()` toma tres argumentos enteros, el primero y el tercero son opcionales.\n",
        "\n",
        "**Ejemplo:**\n",
        "\n",
        "`range(start = 0, stop, step = 1)`\n",
        "\n"
      ]
    },
    {
      "cell_type": "code",
      "metadata": {
        "id": "GE8Wpuf_Icbq",
        "colab_type": "code",
        "colab": {
          "base_uri": "https://localhost:8080/",
          "height": 68
        },
        "outputId": "d097a47d-37ec-417a-8436-c769ebbb49be"
      },
      "source": [
        "# Iterando sobre un rango\n",
        "\n",
        "for i in range(3):\n",
        "    print(\"Hola\")"
      ],
      "execution_count": 14,
      "outputs": [
        {
          "output_type": "stream",
          "text": [
            "Hola\n",
            "Hola\n",
            "Hola\n"
          ],
          "name": "stdout"
        }
      ]
    },
    {
      "cell_type": "markdown",
      "metadata": {
        "id": "sSp0p6lRKo7_",
        "colab_type": "text"
      },
      "source": [
        "✏️  **Ejercicio:**\n",
        "\n",
        "Crea un ciclo `for`que imprima todos los años bisiestos desde el año 2000 hasta el año 2050 usando la función `range()`. Para este ejercicio solo toma en cuenta que un año es bisiesto cada 4 años."
      ]
    },
    {
      "cell_type": "code",
      "metadata": {
        "id": "6WbtNifGMIlI",
        "colab_type": "code",
        "colab": {}
      },
      "source": [
        "# Imprime los años bisiestos entre el 2000 y 2050\n",
        "\n"
      ],
      "execution_count": 16,
      "outputs": []
    },
    {
      "cell_type": "markdown",
      "metadata": {
        "id": "d0UHKIWkJ1WK",
        "colab_type": "text"
      },
      "source": [
        "## 3. Ciclos WHILE\n",
        "\n",
        "Los ciclos `for` son un ejemplo de una _\"iteración definida\"_, lo que significa que el ciclo se ejecuta un número predefinido de veces. Esto difiere de los ciclos `while` en donde tenemos _\"iteración indefinida\"_, que es cuando un bucle se repite un número desconocido de veces y finaliza cuando se cumple alguna condición.\n",
        "\n",
        "**Ejemplo:**\n",
        "\n",
        "```python\n",
        "numero = 0\n",
        "\n",
        "while numero < 3:\n",
        "\tprint(\"Hola\")\n",
        "\tnumero += 1\n",
        "```\n",
        "> Es muy importante que el código que se esté ejecutando modifique al menos una variable en la condición que se está evaluando. Si el valor de la condición de prueba nunca cambia el resultado será un ciclo infinito.\n",
        "\n",
        "Los ciclos pueden contener otros de flujo para realizar operaciones más coplejas.\n"
      ]
    },
    {
      "cell_type": "code",
      "metadata": {
        "id": "OaXnmsSYPv99",
        "colab_type": "code",
        "colab": {
          "base_uri": "https://localhost:8080/",
          "height": 187
        },
        "outputId": "ac0b9328-3e57-4d4a-8a57-8a71299c7796"
      },
      "source": [
        "# Ejemplo de ciclo con condicional\n",
        "\n",
        "i = 0\n",
        "\n",
        "while i < 10:\n",
        "  i += 1\n",
        "  if i % 2 == 0:\n",
        "    print(str(i) + \" es número par\")\n",
        "  else:\n",
        "    print(str(i) + \" es número impar\")"
      ],
      "execution_count": 19,
      "outputs": [
        {
          "output_type": "stream",
          "text": [
            "1 es número impar\n",
            "2 es número par\n",
            "3 es número impar\n",
            "4 es número par\n",
            "5 es número impar\n",
            "6 es número par\n",
            "7 es número impar\n",
            "8 es número par\n",
            "9 es número impar\n",
            "10 es número par\n"
          ],
          "name": "stdout"
        }
      ]
    },
    {
      "cell_type": "markdown",
      "metadata": {
        "id": "ufVKNxtROSWd",
        "colab_type": "text"
      },
      "source": [
        "### Diferencia entre ciclos `for`y `while`\n",
        "\n",
        "- Los ciclos for son ideales cuando el número de iteraciones es conocido o finito.\n",
        "-Los ciclos while son ideales cuando las iteraciones deben continuar hasta que se cumple una condición.\n"
      ]
    }
  ]
}