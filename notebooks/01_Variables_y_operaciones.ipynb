{
  "nbformat": 4,
  "nbformat_minor": 0,
  "metadata": {
    "colab": {
      "name": "01_Variables_y_operaciones.ipynb",
      "provenance": [],
      "authorship_tag": "ABX9TyPxTEVpwI6k8J1B7JBm2eXZ",
      "include_colab_link": true
    },
    "kernelspec": {
      "name": "python3",
      "display_name": "Python 3"
    }
  },
  "cells": [
    {
      "cell_type": "markdown",
      "metadata": {
        "id": "view-in-github",
        "colab_type": "text"
      },
      "source": [
        "<a href=\"https://colab.research.google.com/github/CodeandoMexico/hacking-civico/blob/master/notebooks/01_Variables_y_operaciones.ipynb\" target=\"_parent\"><img src=\"https://colab.research.google.com/assets/colab-badge.svg\" alt=\"Open In Colab\"/></a>"
      ]
    },
    {
      "cell_type": "markdown",
      "metadata": {
        "id": "QKOUeKoNrqgA",
        "colab_type": "text"
      },
      "source": [
        "<p align=\"center\">\n",
        "<img src=\"http://codeandomexico.org/resources/img/codeandomexico.png\" width=\"500\" alt=\"Codeando México\"><br>\n",
        "<a href=\"http://www.codeandomexico.org/\" target=\"_blank\"><img src=\"https://img.shields.io/badge/website-CodeandoMexico-00D88E.svg\"></a>\n",
        "<a href=\"http://slack.codeandomexico.org/\" target=\"_blank\"><img src=\"https://img.shields.io/badge/slack-CodeandoMexico-EC0E4F.svg\"></a>\n",
        "</p>\n",
        "<!-- __ -->\n",
        "\n",
        "# Curso de Datos Abiertos y Hacking Cívico\n",
        "\n",
        "Este curso tiene como objetivo habilitar las capacidades de la ciudadanía y los servidores públicos en el uso y generación de datos abiertos para el bien común. Puedes encontrar más información [aquí](https://github.com/CodeandoMexico/hacking-civico).\n",
        "\n",
        "# Python 101: Introducción al código\n",
        "\n",
        "A lo largo de este _Notebook_ se explicarán algunos conceptos básicos de Python. Los contenidos específicos a cubrir en este cuaderno interactivo son los siguientes:\n",
        "\n",
        "> 1. ¿Qué es Python? \n",
        "> 2. Variables y tipos de datos\n",
        "> 3. Operadores"
      ]
    },
    {
      "cell_type": "markdown",
      "metadata": {
        "id": "HsuEH7-KGKrt",
        "colab_type": "text"
      },
      "source": [
        "## 1. ¿Qué es Python?\n",
        "\n",
        "<center>\n",
        "    <img width=\"30%\" src=\"https://www.python.org/static/community_logos/python-logo-generic.svg\">\n",
        "</center>\n",
        "\n",
        "Python es uno de los lenguajes de programación más utilizados en el mundo y es un **lenguaje de propósito general** que se usa para el desarrollo de videojuegos, desarrollo web, scripting y ciencia de datos por mencionar algunos. Específicamente es un lenguaje **interpretado**, lo que significa que un intérprete corre y ejecuta tu código línea por línea en vez de compilar un programa para crear un archivo ejecutable, también es **multiparadigma** ya que nos permite programar de manera estructurada, orientado a objetos o funcional y **multiplataforma**. \n",
        "\n",
        "Este lenguaje es usado en servicios populares como YouTube, Instagram, Dropbox, entre muchas más y tiene un gran soporte por parte de la comunidad, ya que lo mejor de todo es que es Open Source. Y también es un lenguaje muy popular para aprender a programar ya que es relativamente fácil y sencillo.\n",
        "\n",
        "Por defecto todos los lenguajes de programación tiene varias funciones, palabras reservadas y estructuras integradas dentro del mismo. Dos de las más fundamentales son las funciones de entrada y de salida:\n",
        "\n",
        "- `input()` tiene como argumento una cadena de texto que da las instrucciones que se deseas desplegar.\n",
        "- `print()` es una función integrada que muestra el valor de entrada como texto en la salida.\n"
      ]
    },
    {
      "cell_type": "code",
      "metadata": {
        "id": "26bMaNHzGFE6",
        "colab_type": "code",
        "colab": {
          "base_uri": "https://localhost:8080/",
          "height": 34
        },
        "outputId": "fad0bc46-02fc-4306-a22c-a4c19dd6e0aa"
      },
      "source": [
        "# Ejemplo de la función print\n",
        "\n",
        "print(\"Hola mundo\")"
      ],
      "execution_count": null,
      "outputs": [
        {
          "output_type": "stream",
          "text": [
            "Hola mundo\n"
          ],
          "name": "stdout"
        }
      ]
    },
    {
      "cell_type": "markdown",
      "metadata": {
        "id": "dcuJtJjMlgME",
        "colab_type": "text"
      },
      "source": [
        "### 2. Variables y tipos de datos\n",
        "\n",
        "#### 2.1 Variables\n",
        "\n",
        "Podemos pensar que una variable es como un contenedor de información. En Python los datos almacenados en la memoria pueden ser de muchos tipos. Por ejemplo, la edad de una persona se almacena como un valor numérico y su dirección se almacena como caracteres alfanuméricos. Python tiene varios tipos de datos estándar que se utilizan para definir las operaciones posibles en ellos.\n",
        "\n",
        "Para declarar una variable simplemente escribimos el nombre que le queremos dar, el signo de igual y el valor que le queremos asignar:\n",
        "\n",
        "```python\n",
        "nombre_de_variable = <value>\n",
        "```\n",
        "\n",
        "> El nombre de la variable no puede contener espacios, debe comenzar con una letra, y puede contener letras mayúsculas o números en el nombre.\n",
        "\n",
        "\n",
        "#### 2.2 Tipos de datos\n",
        "\n",
        "Algunos de los tipos de variables más comunes son:\n",
        "\n",
        "- `int` - Representan los números enteros o _integers_.\n",
        "- `float` - Números con punto decimal o _flotantes_.\n",
        "- `str` - Cadenas de texto o _strings_.\n",
        "- `bool` - Representa un valor _booleano_ que se traduce en verdado (`True`) y falso (`False`).\n",
        "\n",
        "> Cada uno de ellos es un tipo de dato diferente y no es lo mismo tener un 4 de tipo `int` que un 4.0 de tipo `float`.\n",
        "\n",
        "**Ejemplo:**\n",
        "\n",
        "```python\n",
        "nombre = \"Fernanda\"\n",
        "edad = 25\n",
        "altura = 1.72\n",
        "estudiante = True\n",
        "```\n",
        "\n",
        "Puede obtener el tipo de dato que almacena cualquier variable podemos usar la función `type()` y pasarle como argumento el nombre de la variable que deseamos:\n",
        "\n",
        "**Ejemplo:**\n",
        "\n",
        "```python\n",
        "type(nombre)\n",
        "type(edad)\n",
        "type(altura)\n",
        "type(estudiante)\n",
        "```\n",
        "\n",
        "\n",
        "✏️ **Ejercicio:**\n",
        "\n",
        "Declara 3 variables que almacenen diferentes tipos de infomación e imprime el tipo de cada una de estas variables. Usa la función `print()` para poder imprimir los resultados."
      ]
    },
    {
      "cell_type": "code",
      "metadata": {
        "id": "AWs2Ac9bqfNn",
        "colab_type": "code",
        "colab": {}
      },
      "source": [
        "# Declara las variables e imprime su tipo\n"
      ],
      "execution_count": null,
      "outputs": []
    },
    {
      "cell_type": "markdown",
      "metadata": {
        "id": "ozkaUFkG-bTB",
        "colab_type": "text"
      },
      "source": [
        "## 3. Operadores\n",
        "\n",
        "En principio existen varios tipos de operaciones que se pueden realizar con variables para declarar sentencias. Estas son las operaciones **aritméticas**, de **asignación**, de **comparación** y **lógicas**.\n",
        "\n",
        "### 3.1 Aritméticos\n",
        "\n",
        "Python tiene varios operadores aritméticos que siguen la lógica matemática para hacer operaciones:\n",
        "\n",
        "\n",
        "- `+` Suma\n",
        "- `-` Resta\n",
        "- `*` Multiplicación\n",
        "- `/` División\n",
        "- `%` Módulo *(regresa el restante de una división)*\n",
        "- `**` Exponenciación \n",
        "- `//` Divición entera *(redondea al número entero más cercano)*\n",
        "\n",
        "**Ejemplo:**\n",
        "\n",
        "\n",
        "\n",
        "```python\n",
        "print(2 + 3) \n",
        "print(5 ** 2) \n",
        "print(12345678 % 2) \n",
        "print(26 / 18)\n",
        "```\n",
        "\n",
        "También podemos hacer operaciones usando los valores almacenados dentro de las variables.\n",
        "\n",
        "**Ejemplo:**\n",
        "\n",
        "```python\n",
        "base = 15\n",
        "altura = 7\n",
        "area_rectangulo = base * altura\n",
        "\n",
        "print(area_rectangulo)\n",
        "```\n",
        "\n"
      ]
    },
    {
      "cell_type": "markdown",
      "metadata": {
        "id": "nH94iFuADuQB",
        "colab_type": "text"
      },
      "source": [
        "✏️ **Ejercicio:**\n",
        "\n",
        "El gasto público en México para los años 2016, 2017 y 2018 ha sido de \\$295.072, \\$298.016 y \\$313.564 millones de dólares respectivamente ([Expansión 2018](https://datosmacro.expansion.com/estado/gasto/mexico#:~:text=El%20gasto%20p%C3%BAblico%20en%20M%C3%A9xico,25%2C75%25%20del%20PIB.)). ¿Cuál es el gasto anual promedio durante el período de tres años? Escribe una expresión para calcular el promedio y usa `print()` para ver el resultado.\n",
        "\n"
      ]
    },
    {
      "cell_type": "code",
      "metadata": {
        "id": "PWDDufTsDil-",
        "colab_type": "code",
        "colab": {}
      },
      "source": [
        "# Escribe una expreción que calcule el promedio\n"
      ],
      "execution_count": null,
      "outputs": []
    },
    {
      "cell_type": "markdown",
      "metadata": {
        "id": "DCRvwGbpJ5R3",
        "colab_type": "text"
      },
      "source": [
        "### 3.2 Asignación\n",
        "\n",
        "Podemos sobreescribir una variable al volverla a escribir y cambiar el valor asignado.\n",
        "\n",
        "**Ejemplo:**\n",
        "\n",
        "```python\n",
        "poblacion = 126200000\n",
        "poblacion = poblacion + 100000\n",
        "\n",
        "print(poblacion)\n",
        "```\n",
        "\n",
        "Debido a que las operaciones de reasignación e incremento de los valores en las variables es muy común en Python, existen operadores especiales de asignación para facilitar esto:\n",
        "\n",
        "| Operador   |      Ejemplo      |  Equivalencia |\n",
        "|----------|:-------------:|------:|\n",
        "| `+=` | `x += 5` | `x = x + 5` |\n",
        "| `-=` | `x -= 5` | `x = x - 5` |\n",
        "| `*=` | `x *= 5` | `x = x * 5` |\n",
        "\n",
        "> Los operadores de asignación pueden usar cualquier expresión aritmética.\n",
        "\n",
        "**Ejemplo:**\n",
        "\n",
        "```python\n",
        "poblacion = 126200000\n",
        "poblacion += 100000\n",
        "\n",
        "print(poblacion)\n",
        "```\n"
      ]
    },
    {
      "cell_type": "markdown",
      "metadata": {
        "id": "KWE4HjY_zFw8",
        "colab_type": "text"
      },
      "source": [
        "#### 3.3 Comparación\n",
        "\n",
        "Las operaciones de comparación operan a nivel matemático de comparación sobre las variables, aquí podemos tener operaciones como mayo que o menor que para comparar 2 valores y esto nos genera un valor _booleano_ de verdadero o falso.\n",
        "\n",
        "|Comparación\t|Valor\t|Operación|\n",
        "|----------|:-------------:|------:|\n",
        "|`5 < 3`\t|False\t|Menor que|\n",
        "|`5 > 3`\t|True\t|Mayor que|\n",
        "|`3 <= 3`\t|True\t|Menor o igual que|\n",
        "|`3 >= 5`\t|False\t|Mayor o igual que|\n",
        "|`3 == 5`\t|False\t|Igual que|\n",
        "|`3 != 5`\t|True\t|No igual o diferente|\n",
        "\n",
        "> Nótese que para la operación de _igual que_ se usa doble signo igual, esto es porque usar solo uno sirve para asignar una variable.\n"
      ]
    },
    {
      "cell_type": "code",
      "metadata": {
        "id": "gR2UnsD_0dO3",
        "colab_type": "code",
        "colab": {
          "base_uri": "https://localhost:8080/",
          "height": 34
        },
        "outputId": "06971938-02c0-4379-a806-1fe95d2b3730"
      },
      "source": [
        "# Operadores de comparación\n",
        "\n",
        "print(5 < 3)"
      ],
      "execution_count": null,
      "outputs": [
        {
          "output_type": "stream",
          "text": [
            "False\n"
          ],
          "name": "stdout"
        }
      ]
    },
    {
      "cell_type": "markdown",
      "metadata": {
        "id": "BPmO8XIqN8fC",
        "colab_type": "text"
      },
      "source": [
        "### 3.4 Lógicos\n",
        "\n",
        "Además de los operadores de comparación los operadores lógicos son muy útiles cuando estamos trabajando con valores booleanos:\n",
        "\n",
        "- `and` - evalúa si ambos lados de la expresión son verdaderos.\n",
        "- `or` - evalúa si al menos uno de los lados de la expresión es verdadero.\n",
        "- `not` - actúa como el inverso de cualquier booleano.\n",
        "\n",
        "**Ejemplo:**\n",
        "\n",
        "| Uso lógico\t| Valor\t|\n",
        "|----------|:-------------:|\n",
        "| `5 < 3 and 5 == 5`\t| False\t|\n",
        "| `5 < 3 or 5 == 5`\t| True\t| \n",
        "| `not 5 < 3`\t| True\t|\n"
      ]
    },
    {
      "cell_type": "markdown",
      "metadata": {
        "id": "GgHfgxNx2sCE",
        "colab_type": "text"
      },
      "source": [
        "✏️ **Ejercicio:**\n",
        "\n",
        "Determina si cierta persona pertenece a la generación _\"Millennial\"_ de acuerdo a su año de nacimiento. En donde si su año de nacimiento se encuentra entre 1981 y 1993 ([Taxonomía de generaciones](https://www.lavanguardia.com/vivo/20180408/442342457884/descubre-que-generacion-perteneces.html#:~:text=Baby%20boomers%2C%20millennials%2C%20ni%C3%B1os%20de,a%20la%20llamada%20generaci%C3%B3n%20Z.)) nos regrese que es verdadero, de lo contrario nos debería regresar que es falso.\n",
        "\n",
        "Crea la variable `ano_nacimiento` y asígnale un año dentro y fuera del rango para comprobarlo. No olvides imprimir el resultado.\n"
      ]
    },
    {
      "cell_type": "code",
      "metadata": {
        "id": "FNk40LrS5sbv",
        "colab_type": "code",
        "colab": {}
      },
      "source": [
        "# Usa los operadores de comparación y lógicos para obtener un valor booleano\n",
        "\n"
      ],
      "execution_count": null,
      "outputs": []
    }
  ]
}